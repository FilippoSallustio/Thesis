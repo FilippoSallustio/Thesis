{
 "cells": [
  {
   "cell_type": "markdown",
   "metadata": {},
   "source": [
    "# Model Comparison Table: Closing Price Forecasting\n",
    "\n",
    "## Methods: LSTM, ANN, ARIMA\n"
   ]
  },
  {
   "cell_type": "markdown",
   "metadata": {},
   "source": [
    "| Metric                                  | **ANN**                           | **LSTM**                            | **ARIMA**                          | Interpretation                                                                            |\n",
    "| --------------------------------------- | --------------------------------- | ----------------------------------- | ---------------------------------- | ----------------------------------------------------------------------------------------- |\n",
    "| **Test RMSE**                           | 263.02                            | 322.88                              | 239.52                             | Lower is better. ARIMA is slightly best, followed by ANN; LSTM is somewhat less accurate. |\n",
    "| **Test MAE**                            | 263.02                            | 322.88                              | 239.52                             | Same order as RMSE; ARIMA and ANN perform better than LSTM.                               |\n",
    "| **Test MAPE**                           | 1.04%                             | 1.16%                               | 0.95%                              | All are excellent (<2%), ARIMA is best, but differences are marginal.                     |\n",
    "| **Test R²**                             | 0.9805                            | 0.9766                              | 0.98                               | All explain >97% of out-of-sample price variance; ANN and ARIMA have a slight edge.       |\n",
    "| **Residual Ljung-Box p-value (lag 10)** | 0.0000                            | 0.0000                              | 0.0074                             | All show some autocorrelation in residuals (p < 0.05).                                    |\n",
    "| **Residual Distribution**               | Symmetric, bell-shaped            | Symmetric, bell-shaped              | Symmetric, bell-shaped             | Suggests no large bias, errors are centered, but some autocorrelation remains.            |\n",
    "| **Visual Fit**                          | Very close fit, some missed peaks | Good fit, but sometimes lags trends | Very close, follows actual closely | All models visually track the price; ARIMA and ANN have the tightest fit.                 |\n"
   ]
  },
  {
   "cell_type": "markdown",
   "metadata": {},
   "source": [
    "# Model Comparison Table: Log Variance Forecasting\n",
    "\n",
    "## Methods: XGBOOST, E-GARCH, GJR-GARCH\n"
   ]
  },
  {
   "cell_type": "markdown",
   "metadata": {},
   "source": [
    "| Metric         | **XGBoost**                            | **E-GARCH**                             | **GJR-GARCH**                     | Interpretation                                                                                         |\n",
    "| -------------- | -------------------------------------- | --------------------------------------- | --------------------------------- | ------------------------------------------------------------------------------------------------------ |\n",
    "| **Test RMSE**  | 2.2047                                 | 0.8805                                  | 0.9067                            | Lower is better. E-GARCH and GJR-GARCH have much lower error, indicating tighter fit to actual values. |\n",
    "| **Test MAE**   | 1.6835                                 | 0.7153                                  | 0.7311                            | E-GARCH and GJR-GARCH track daily variance more closely; XGBoost is less accurate.                     |\n",
    "| **Test MAPE**  | *Not shown*¹                           | 588.25%                                 | 574.85%                           | Not meaningful for log variance, due to denominator near zero.                                         |\n",
    "| **Test R²**    | 0.0648                                 | 0.3173                                  | 0.2761                            | Proportion of explained variance. E-GARCH and GJR-GARCH explain much more than XGBoost.                |\n",
    "| **Test QLIKE** | *Not shown*¹                           | 1.6671                                  | 1.6625                            | Lower is better. E-GARCH/GJR-GARCH show similarly good fit; XGBoost did not report QLIKE.              |\n",
    "| **Visual Fit** | Orange line smoother, underfits spikes | Tracks volatility regimes/clusters well | Also tracks regimes/clusters well | GARCH models handle volatility dynamics and clusters better than XGBoost, which is overly smooth.      |\n"
   ]
  }
 ],
 "metadata": {
  "kernelspec": {
   "display_name": "thesis",
   "language": "python",
   "name": "python3"
  },
  "language_info": {
   "codemirror_mode": {
    "name": "ipython",
    "version": 3
   },
   "file_extension": ".py",
   "mimetype": "text/x-python",
   "name": "python",
   "nbconvert_exporter": "python",
   "pygments_lexer": "ipython3",
   "version": "3.11.11"
  }
 },
 "nbformat": 4,
 "nbformat_minor": 4
}
